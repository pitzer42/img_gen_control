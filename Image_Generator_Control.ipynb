{
  "nbformat": 4,
  "nbformat_minor": 0,
  "metadata": {
    "colab": {
      "name": "Image Generator Control",
      "provenance": [],
      "private_outputs": true,
      "collapsed_sections": [],
      "mount_file_id": "1Wfg-gX6khO65U8fhxXiOA0IbYn0mbz6h",
      "authorship_tag": "ABX9TyPLIVW3L0ryP13YQAW8kC4A",
      "include_colab_link": true
    },
    "kernelspec": {
      "name": "python3",
      "display_name": "Python 3"
    },
    "accelerator": "GPU"
  },
  "cells": [
    {
      "cell_type": "markdown",
      "metadata": {
        "id": "view-in-github",
        "colab_type": "text"
      },
      "source": [
        "<a href=\"https://colab.research.google.com/github/pitzer42/img_gen_control/blob/master/Image_Generator_Control.ipynb\" target=\"_parent\"><img src=\"https://colab.research.google.com/assets/colab-badge.svg\" alt=\"Open In Colab\"/></a>"
      ]
    },
    {
      "cell_type": "code",
      "metadata": {
        "id": "g0KOG4zoPPho",
        "colab_type": "code",
        "colab": {}
      },
      "source": [
        "import matplotlib.pyplot as plt\n",
        "import tensorflow as tf\n",
        "from ipywidgets import interact as run_ui\n",
        "from ipywidgets.widgets import FloatSlider\n",
        "from sklearn.decomposition import PCA\n",
        "from sklearn.preprocessing import StandardScaler\n",
        "\n",
        "\n",
        "def pca_on_activation_space(model,\n",
        "                            n_components,\n",
        "                            n_samples,\n",
        "                            input_generator=tf.random.normal):\n",
        "    input_shape = list(model.input_shape)\n",
        "    input_shape[0] = n_samples\n",
        "    input_tensor = input_generator(input_shape)\n",
        "    output_tensor = model(input_tensor)\n",
        "    output_tensor = tf.reshape(output_tensor, [n_samples, -1])\n",
        "    output_tensor = StandardScaler().fit_transform(output_tensor)\n",
        "    pca_fit = PCA(n_components).fit(output_tensor)\n",
        "    return pca_fit\n",
        "\n",
        "\n",
        "def create_parametric_input_generator(means, variances, directions, standard_deviation_range=2.5):\n",
        "    def _g(**kwargs):\n",
        "        input_tensor = tf.identity(means)\n",
        "        params = kwargs.values()\n",
        "        for direction, param, variance in zip(directions, params, variances):\n",
        "            direction = tf.reshape(direction, [1, -1])\n",
        "            standard_deviation = tf.sqrt(variance)\n",
        "            input_tensor += direction * param * standard_deviation * standard_deviation_range\n",
        "        return input_tensor\n",
        "\n",
        "    return _g\n",
        "\n",
        "\n",
        "def create_slider_widget_dict(n_sliders):\n",
        "    return {\n",
        "        f'comp_{k}': FloatSlider(min=-1, max=1, step=0.001)\n",
        "        for k in range(n_sliders)\n",
        "    }\n",
        "\n",
        "\n",
        "def plot_model_output(model, input_tensor, img_dim):\n",
        "    output = model(input_tensor)\n",
        "    output = tf.reshape(output, img_dim)\n",
        "    plt.imshow(output, cmap='YlGn')\n",
        "\n",
        "\n",
        "def control_first_layer(model, n_components, n_samples, img_dim):\n",
        "    first_layer = model.layers[0]\n",
        "    other_layers = tf.keras.models.Sequential(model.layers[1:])\n",
        "\n",
        "    pca_fit = pca_on_activation_space(first_layer, n_components, n_samples)\n",
        "    parametric_input_generator = create_parametric_input_generator(\n",
        "        pca_fit.mean_,\n",
        "        pca_fit.explained_variance_,\n",
        "        pca_fit.components_)\n",
        "    sliders = create_slider_widget_dict(n_components)\n",
        "\n",
        "    def update_ui(**kwargs):\n",
        "        input_tensor = parametric_input_generator(**kwargs)\n",
        "        plot_model_output(other_layers, input_tensor, img_dim)\n",
        "\n",
        "    run_ui(\n",
        "        update_ui,\n",
        "        **sliders\n",
        "    )\n"
      ],
      "execution_count": null,
      "outputs": []
    },
    {
      "cell_type": "code",
      "metadata": {
        "id": "UhHHEMw-lCwb",
        "colab_type": "code",
        "colab": {},
        "cellView": "form"
      },
      "source": [
        "model_path = '/content/drive/My Drive/Colab Notebooks/Models/mnist_gen_100_60000'  # @param {type:\"string\"}\n",
        "_n_components = 8  # @param {type: \"integer\"}\n",
        "_n_samples = 1000  # @param {type: \"integer\"}\n",
        "img_width = 28  # @param {type: \"integer\"}\n",
        "img_height = 28  # @param {type: \"integer\"}\n",
        "_img_dim = [img_width, img_height]\n",
        "\n",
        "import tensorflow as tf\n",
        "\n",
        "_model = tf.keras.models.load_model(model_path)\n",
        "\n",
        "control_first_layer(\n",
        "    _model,\n",
        "    _n_components,\n",
        "    _n_samples,\n",
        "    _img_dim\n",
        ")"
      ],
      "execution_count": null,
      "outputs": []
    },
    {
      "cell_type": "code",
      "metadata": {
        "id": "kH8xq2hEp3lc",
        "colab_type": "code",
        "colab": {}
      },
      "source": [
        ""
      ],
      "execution_count": null,
      "outputs": []
    }
  ]
}